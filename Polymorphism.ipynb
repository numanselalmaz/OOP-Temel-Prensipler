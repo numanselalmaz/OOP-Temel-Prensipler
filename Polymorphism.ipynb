{
 "cells": [
  {
   "cell_type": "code",
   "execution_count": 4,
   "metadata": {},
   "outputs": [
    {
     "name": "stdout",
     "output_type": "stream",
     "text": [
      "Name:  Mark \n",
      " Last Name:  Smith \n",
      " Salary:  24000.0 \n",
      " Department:  Statistics \n",
      " Register Score:  100000\n",
      "Daily Wages:  960.0\n"
     ]
    }
   ],
   "source": [
    "class Employees():\n",
    "    def __init__(self, name, last_name, salary, department):\n",
    "        self.name = name\n",
    "        self.last_name = last_name\n",
    "        self.salary = float(salary)\n",
    "        self.department = department\n",
    "\n",
    "    def show_details(self):\n",
    "        print(\"Name: \", self.name, \"\\n\", \"Last Name: \", self.last_name,\"\\n\", \"Salary: \", self.salary,\"\\n\", \"Department: \", self.department)\n",
    "\n",
    "    def salary_per_one_hour(self, working_hour):\n",
    "        per_one_hour = self.salary/30/9\n",
    "        daily = working_hour * (per_one_hour * 1.2)\n",
    "        print(\"Daily Wages: \", daily)\n",
    "\n",
    "class Managers(Employees):\n",
    "    def __init__(self, name, last_name, salary, department, reg_score):\n",
    "        super().__init__(name,last_name,salary,department)\n",
    "        self.__reg_score = reg_score\n",
    "\n",
    "    def show_details(self):\n",
    "        print(\"Name: \", self.name, \"\\n\", \"Last Name: \", self.last_name,\"\\n\", \"Salary: \", self.salary,\"\\n\", \"Department: \", self.department,\"\\n\", \"Register Score: \",self.__reg_score)\n",
    "    \n",
    "    def salary_per_one_hour(self, working_hour):\n",
    "        per_one_hour = self.salary/30/9\n",
    "        daily = working_hour * (per_one_hour * 1.8)\n",
    "        print(\"Daily Wages: \", daily)\n",
    "\n",
    "manager_one = Managers(\"Mark\",\"Smith\",\"24000\",\"Statistics\",100000)\n",
    "\n",
    "manager_one.show_details()\n",
    "manager_one.salary_per_one_hour(6)"
   ]
  }
 ],
 "metadata": {
  "kernelspec": {
   "display_name": "Python 3.8.8 ('base')",
   "language": "python",
   "name": "python3"
  },
  "language_info": {
   "codemirror_mode": {
    "name": "ipython",
    "version": 3
   },
   "file_extension": ".py",
   "mimetype": "text/x-python",
   "name": "python",
   "nbconvert_exporter": "python",
   "pygments_lexer": "ipython3",
   "version": "3.8.8"
  },
  "orig_nbformat": 4,
  "vscode": {
   "interpreter": {
    "hash": "c3c8ed4c87010385551ca086cfee93e998268a061c0c4fea2fc5f5fb4efb51e4"
   }
  }
 },
 "nbformat": 4,
 "nbformat_minor": 2
}
