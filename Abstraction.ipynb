{
 "cells": [
  {
   "cell_type": "code",
   "execution_count": 9,
   "metadata": {},
   "outputs": [
    {
     "name": "stdout",
     "output_type": "stream",
     "text": [
      "M4\n",
      "100\n",
      "I am throwing a bomb\n",
      "None\n",
      "AK-47\n",
      "100\n",
      "I am throwing a bomb\n",
      "None\n"
     ]
    }
   ],
   "source": [
    "from abc import ABC, abstractmethod\n",
    "\n",
    "class Players(ABC):\n",
    "    def __init__(self, name, last_name, team):\n",
    "        self.name    = name\n",
    "        self.last_name = last_name\n",
    "        self.team   = team\n",
    "\n",
    "    @abstractmethod\n",
    "    def health(self):\n",
    "        return 100\n",
    "\n",
    "    @abstractmethod\n",
    "    def use_bomb(self):\n",
    "        print(\"I am throwing a bomb\")\n",
    "\n",
    "class Enemy(Players):\n",
    "    def __init__(self, name, last_name, team, weapon):\n",
    "        super().__init__(name, last_name, team)\n",
    "        self.weapon = weapon\n",
    "\n",
    "    def health(self):\n",
    "        return 100\n",
    "    \n",
    "    def use_bomb(self):\n",
    "        print(\"I am throwing a bomb\")\n",
    "\n",
    "class Ally(Players):\n",
    "    def __init__(self, name, last_name, team, weapon):\n",
    "        super().__init__(name, last_name, team)\n",
    "        self.weapon = weapon\n",
    "    \n",
    "    def health(self):\n",
    "        return 100\n",
    "    \n",
    "    def use_bomb(self):\n",
    "        print(\"I am throwing a bomb\")\n",
    "\n",
    "player1 = Ally(\"Müslüm\",\"Elmas\",\"Ally\",\"M4\")\n",
    "player2 = Enemy(\"Mert\", \"Kaya\", \"Enemy\", \"AK-47\")\n",
    "\n",
    "print(player1.weapon)\n",
    "print(player1.health())\n",
    "print(player1.use_bomb())\n",
    "print(player2.weapon)\n",
    "print(player2.health())\n",
    "print(player2.use_bomb())"
   ]
  }
 ],
 "metadata": {
  "kernelspec": {
   "display_name": "Python 3.8.8 ('base')",
   "language": "python",
   "name": "python3"
  },
  "language_info": {
   "codemirror_mode": {
    "name": "ipython",
    "version": 3
   },
   "file_extension": ".py",
   "mimetype": "text/x-python",
   "name": "python",
   "nbconvert_exporter": "python",
   "pygments_lexer": "ipython3",
   "version": "3.8.8"
  },
  "orig_nbformat": 4,
  "vscode": {
   "interpreter": {
    "hash": "c3c8ed4c87010385551ca086cfee93e998268a061c0c4fea2fc5f5fb4efb51e4"
   }
  }
 },
 "nbformat": 4,
 "nbformat_minor": 2
}
